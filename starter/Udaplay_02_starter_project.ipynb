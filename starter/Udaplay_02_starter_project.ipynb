{
 "cells": [
  {
   "cell_type": "markdown",
   "id": "6fdd0bcb",
   "metadata": {},
   "source": [
    "# [STARTER] Udaplay Project"
   ]
  },
  {
   "cell_type": "markdown",
   "id": "9325b035",
   "metadata": {},
   "source": [
    "## Part 02 - Agent\n",
    "\n",
    "In this part of the project, you'll use your VectorDB to be part of your Agent as a tool.\n",
    "\n",
    "You're building UdaPlay, an AI Research Agent for the video game industry. The agent will:\n",
    "1. Answer questions using internal knowledge (RAG)\n",
    "2. Search the web when needed\n",
    "3. Maintain conversation state\n",
    "4. Return structured outputs\n",
    "5. Store useful information for future use"
   ]
  },
  {
   "cell_type": "markdown",
   "id": "2b42de90",
   "metadata": {},
   "source": [
    "### Setup"
   ]
  },
  {
   "cell_type": "code",
   "execution_count": null,
   "id": "a963d4ca",
   "metadata": {},
   "outputs": [],
   "source": [
    "# Only needed for Udacity workspace\n",
    "\n",
    "import importlib.util\n",
    "import sys\n",
    "\n",
    "# Check if 'pysqlite3' is available before importing\n",
    "if importlib.util.find_spec(\"pysqlite3\") is not None:\n",
    "    import pysqlite3\n",
    "    sys.modules['sqlite3'] = sys.modules.pop('pysqlite3')"
   ]
  },
  {
   "cell_type": "code",
   "execution_count": 22,
   "id": "fd10c06e",
   "metadata": {},
   "outputs": [],
   "source": [
    "import os\n",
    "\n",
    "import chromadb\n",
    "from openai import OpenAI\n",
    "from tavily import TavilyClient\n",
    "from dotenv import load_dotenv"
   ]
  },
  {
   "cell_type": "code",
   "execution_count": 23,
   "id": "87e465d4",
   "metadata": {},
   "outputs": [],
   "source": [
    "load_dotenv(\".env\")\n",
    "os.environ[\"OPENAI_BASE_URL\"] = \"https://openai.vocareum.com/v1\"\n",
    "\n",
    "OPENAI_API_KEY = os.getenv(\"OPENAI_API_KEY\")\n",
    "TAVILY_API_KEY = os.getenv(\"TAVILY_API_KEY\")\n",
    "\n",
    "assert OPENAI_API_KEY and OPENAI_API_KEY.startswith(\"voc-\"), \"Need a voc- OPENAI_API_KEY\"\n",
    "assert TAVILY_API_KEY, \"Missing TAVILY_API_KEY\"\n",
    "\n",
    "openai_client = OpenAI(api_key=OPENAI_API_KEY, base_url=os.getenv(\"OPENAI_BASE_URL\"))\n",
    "tavily = TavilyClient(TAVILY_API_KEY)"
   ]
  },
  {
   "cell_type": "code",
   "execution_count": 24,
   "id": "ce364221",
   "metadata": {},
   "outputs": [],
   "source": [
    "from lib.voc_embedding import VocareumEmbeddingFunction\n",
    "\n",
    "embedding_fn = VocareumEmbeddingFunction(\"text-embedding-3-small\")\n",
    "chroma_client = chromadb.PersistentClient(path=\"chromadb\")\n",
    "collection = chroma_client.get_collection(\"udaplay\", embedding_function=embedding_fn)"
   ]
  },
  {
   "cell_type": "markdown",
   "id": "27de4729",
   "metadata": {},
   "source": [
    "### Tools"
   ]
  },
  {
   "cell_type": "markdown",
   "id": "46ab2dac",
   "metadata": {},
   "source": [
    "Build at least 3 tools:\n",
    "- retrieve_game: To search the vector DB\n",
    "- evaluate_retrieval: To assess the retrieval performance\n",
    "- game_web_search: If no good, search the web\n"
   ]
  },
  {
   "cell_type": "markdown",
   "id": "ce4f14cd",
   "metadata": {},
   "source": [
    "#### Retrieve Game Tool"
   ]
  },
  {
   "cell_type": "code",
   "execution_count": 25,
   "id": "b25c36dd",
   "metadata": {},
   "outputs": [
    {
     "data": {
      "text/plain": [
       "[{'name': 'Gran Turismo',\n",
       "  'platform': 'PlayStation 1',\n",
       "  'year': 1997,\n",
       "  'publisher': 'Sony Computer Entertainment',\n",
       "  'score': 0.2703},\n",
       " {'name': 'Gran Turismo 5',\n",
       "  'platform': 'PlayStation 3',\n",
       "  'year': 2010,\n",
       "  'publisher': 'Sony Computer Entertainment',\n",
       "  'score': 0.1987}]"
      ]
     },
     "execution_count": 25,
     "metadata": {},
     "output_type": "execute_result"
    }
   ],
   "source": [
    "def retrieve_game(q, k=3):\n",
    "    r = collection.query(\n",
    "        query_texts=[q], n_results=k,\n",
    "        include=[\"metadatas\",\"distances\"]\n",
    "    )\n",
    "    out = []\n",
    "    for i, m in enumerate(r[\"metadatas\"][0]):\n",
    "        out.append({\n",
    "            \"name\": m.get(\"Name\"),\n",
    "            \"platform\": m.get(\"Platform\"),\n",
    "            \"year\": m.get(\"YearOfRelease\"),\n",
    "            \"publisher\": m.get(\"Publisher\"),\n",
    "            \"score\": round(1 - r[\"distances\"][0][i], 4)\n",
    "        })\n",
    "    return out\n",
    "\n",
    "retrieve_game(\"What platform was Gran Turismo launched on?\", 2)\n"
   ]
  },
  {
   "cell_type": "markdown",
   "id": "910dc945",
   "metadata": {},
   "source": [
    "#### Evaluate Retrieval Tool"
   ]
  },
  {
   "cell_type": "code",
   "execution_count": 26,
   "id": "0d9d014b",
   "metadata": {},
   "outputs": [
    {
     "data": {
      "text/plain": [
       "{'useful': True,\n",
       " 'description': 'The docs mention Gran Turismo was launched on PlayStation 1 in 1997.'}"
      ]
     },
     "execution_count": 26,
     "metadata": {},
     "output_type": "execute_result"
    }
   ],
   "source": [
    "import json\n",
    "\n",
    "def evaluate_retrieval(question, retrieved_docs):\n",
    "    docs = \"\\n\".join([f\"- {d.get('name')} | {d.get('platform')} | {d.get('year')}\"\n",
    "                      for d in retrieved_docs[:3]])\n",
    "    ask = (\n",
    "        \"Are these docs enough to answer the question?\\n\"\n",
    "        \"Reply ONLY as JSON with keys: useful (true/false), description (short).\\n\\n\"\n",
    "        f\"Question: {question}\\nDocs:\\n{docs}\"\n",
    "    )\n",
    "    r = openai_client.chat.completions.create(\n",
    "        model=\"gpt-4o-mini\",\n",
    "        response_format={\"type\":\"json_object\"},\n",
    "        messages=[{\"role\":\"system\",\"content\":\"Be brief. JSON only.\"},\n",
    "                  {\"role\":\"user\",\"content\": ask}]\n",
    "    )\n",
    "    return json.loads(r.choices[0].message.content)\n",
    "\n",
    "# quick test\n",
    "hits = retrieve_game(\"What platform was Gran Turismo launched on?\", k=3)\n",
    "evaluate_retrieval(\"What platform was Gran Turismo launched on?\", hits)"
   ]
  },
  {
   "cell_type": "markdown",
   "id": "c7935a26",
   "metadata": {},
   "source": [
    "#### Game Web Search Tool"
   ]
  },
  {
   "cell_type": "code",
   "execution_count": 27,
   "id": "2ad698aa",
   "metadata": {},
   "outputs": [
    {
     "name": "stdout",
     "output_type": "stream",
     "text": [
      "Answer: Pokémon Gold and Silver were released in Japan on November 21, 1999, and in North America on October 15, 2000.\n",
      "Results shown: 5\n"
     ]
    }
   ],
   "source": [
    "def game_web_search(question, max_results=5):\n",
    "    r = tavily.search(\n",
    "        query=question,\n",
    "        max_results=max_results,\n",
    "        include_answer=True\n",
    "    )\n",
    "    answer = r.get(\"answer\")\n",
    "    results = [{\"title\": x.get(\"title\"), \"url\": x.get(\"url\")} for x in r.get(\"results\", [])]\n",
    "    return {\"answer\": answer, \"results\": results}\n",
    "\n",
    "\n",
    "w = game_web_search(\"When were Pokémon Gold and Silver released?\", max_results=5)\n",
    "print(\"Answer:\", w[\"answer\"])\n",
    "print(\"Results shown:\", len(w[\"results\"]))\n"
   ]
  },
  {
   "cell_type": "code",
   "execution_count": 28,
   "id": "df4adb15",
   "metadata": {},
   "outputs": [],
   "source": [
    "def tool(fn):\n",
    "    fn._is_tool = True\n",
    "    fn.tool_name = fn.__name__\n",
    "    return fn\n",
    "\n",
    "@tool\n",
    "def retrieve_game_tool(query, k=5):\n",
    "    return retrieve_game(query, k)\n",
    "\n",
    "@tool\n",
    "def evaluate_retrieval_tool(question, retrieved_docs):\n",
    "    return evaluate_retrieval(question, retrieved_docs)\n",
    "\n",
    "@tool\n",
    "def game_web_search_tool(question, max_results=5):\n",
    "    return game_web_search(question, max_results)\n"
   ]
  },
  {
   "cell_type": "code",
   "execution_count": 29,
   "id": "eea52cc6",
   "metadata": {},
   "outputs": [],
   "source": [
    "def udaplay(q):\n",
    "    hits  = retrieve_game(q, k=5)\n",
    "    judge = evaluate_retrieval(q, hits)\n",
    "\n",
    "    if judge.get(\"useful\"):\n",
    "        top = hits[0] if hits else {}\n",
    "        ql = q.lower()\n",
    "        if \"platform\" in ql:\n",
    "            ans = f\"{top.get('name')} was launched on {top.get('platform')}.\"\n",
    "        elif \"publisher\" in ql:\n",
    "            ans = f\"The publisher of {top.get('name')} is {top.get('publisher')}.\"\n",
    "        else:\n",
    "            ans = f\"{top.get('name')} ({top.get('platform')}) was released in {top.get('year')}.\"\n",
    "        return {\"mode\":\"local\",\"answer\":ans,\"sources\":hits,\"eval\":judge}\n",
    "\n",
    "    web = game_web_search(q, max_results=5)\n",
    "    return {\"mode\":\"web\",\"answer\":web.get(\"answer\") or \"See sources.\",\"sources\":web.get(\"results\",[]),\"eval\":judge}\n"
   ]
  },
  {
   "cell_type": "markdown",
   "id": "df844b3b",
   "metadata": {},
   "source": [
    "### Agent"
   ]
  },
  {
   "cell_type": "code",
   "execution_count": null,
   "id": "31c56281",
   "metadata": {},
   "outputs": [],
   "source": [
    "from enum import Enum\n",
    "\n",
    "class State(Enum):\n",
    "    RETRIEVE = \"RETRIEVE\"\n",
    "    EVALUATE = \"EVALUATE\"\n",
    "    WEB      = \"WEB\"\n",
    "    SUMMARIZE= \"SUMMARIZE\"\n",
    "    END      = \"END\"\n",
    "\n",
    "class MiniAgent:\n",
    "    def __init__(self, tools):\n",
    "        self.tools = {t.tool_name: t for t in tools}\n",
    "        self.history = []          \n",
    "        self.last_game_name = \"\"   \n",
    "\n",
    "    def _with_context(self, question: str) -> str:\n",
    "        ql = question.lower()\n",
    "        if self.last_game_name and any(w in ql for w in [\" it\", \" that\", \" this\", \"that game\", \"this game\"]):\n",
    "            return f\"{question} (context: about {self.last_game_name})\"\n",
    "        return question\n",
    "\n",
    "    def run(self, question: str):\n",
    "        state = State.RETRIEVE\n",
    "        trace = [(\"USER\", question)]\n",
    "\n",
    "        hits = None\n",
    "        report = None\n",
    "        web = None\n",
    "\n",
    "        question_for_tools = self._with_context(question)\n",
    "\n",
    "        while state != State.END:\n",
    "            if state == State.RETRIEVE:\n",
    "                trace.append((\"ASSISTANT\", \"None 🛠 Tool Call: retrieve_game\"))\n",
    "                hits = self.tools[\"retrieve_game_tool\"](question_for_tools, k=5)\n",
    "                trace.append((\"TOOL\", hits))\n",
    "                state = State.EVALUATE\n",
    "\n",
    "            elif state == State.EVALUATE:\n",
    "                trace.append((\"ASSISTANT\", \"None 🛠 Tool Call: evaluate_retrieval\"))\n",
    "                report = self.tools[\"evaluate_retrieval_tool\"](question, hits or [])\n",
    "                trace.append((\"TOOL\", report))\n",
    "                state = State.SUMMARIZE if report.get(\"useful\") else State.WEB\n",
    "\n",
    "            elif state == State.WEB:\n",
    "                trace.append((\"ASSISTANT\", \"None 🛠 Tool Call: game_web_search\"))\n",
    "                web = self.tools[\"game_web_search_tool\"](question, max_results=5)\n",
    "                trace.append((\"TOOL\", web))\n",
    "                state = State.SUMMARIZE\n",
    "\n",
    "            elif state == State.SUMMARIZE:\n",
    "                if report and report.get(\"useful\") and hits:\n",
    "                    top = hits[0]\n",
    "                    ql = question.lower()\n",
    "                    if \"platform\" in ql:\n",
    "                        answer = f\"{top['name']} was launched on {top['platform']}.\"\n",
    "                    elif \"publisher\" in ql:\n",
    "                        answer = f\"The publisher of {top['name']} is {top['publisher']}.\"\n",
    "                    else:\n",
    "                        answer = f\"{top['name']} ({top['platform']}) was released in {top['year']}.\"\n",
    "                    mode = \"local\"\n",
    "                    sources = hits[:2]\n",
    "                    self.last_game_name = top.get(\"name\") or self.last_game_name\n",
    "                else:\n",
    "                    answer = (web or {}).get(\"answer\") or \"I looked this up on the web. See sources.\"\n",
    "                    mode = \"web\"\n",
    "                    sources = (web or {}).get(\"results\", [])[:2]\n",
    "                state = State.END\n",
    "\n",
    "        for role, content in trace:\n",
    "            if role == \"USER\":\n",
    "                print(f\"🧑‍💻 USER: {content}\")\n",
    "            elif role == \"ASSISTANT\":\n",
    "                print(f\"🎮 ASSISTANT: {content}\")\n",
    "            else:\n",
    "                print(f\"🧰 TOOL: {content}\")\n",
    "\n",
    "        print(\"\\n🎮 ASSISTANT: Summarised Answer:\")\n",
    "        print(answer)\n",
    "\n",
    "        print(\"\\nCitations:\")\n",
    "        if mode == \"local\":\n",
    "            for s in sources:\n",
    "                print(f\"- {s['name']} ({s['platform']}, {s.get('year')})\")\n",
    "        else:\n",
    "            for s in sources:\n",
    "                print(f\"- {s.get('title')} — {s.get('url')}\")\n",
    "\n",
    "        print(\"\\nReport:\")\n",
    "        if mode == \"local\" and isinstance(report, dict):\n",
    "            print(report.get(\"description\", \"Used local docs.\"))\n",
    "        else:\n",
    "            print(\"Fell back to web search.\")\n",
    "\n",
    "        self.history.append({\n",
    "            \"q\": question, \"mode\": mode, \"answer\": answer,\n",
    "            \"sources\": sources, \"trace\": trace\n",
    "        })\n",
    "        return {\"answer\": answer, \"mode\": mode, \"sources\": sources, \"trace\": trace}"
   ]
  },
  {
   "cell_type": "code",
   "execution_count": 31,
   "id": "0ec23893",
   "metadata": {},
   "outputs": [
    {
     "name": "stdout",
     "output_type": "stream",
     "text": [
      "🧑‍💻 USER: When were Pokémon Gold and Silver released?\n",
      "🎮 ASSISTANT: None 🛠 Tool Call: retrieve_game\n",
      "🧰 TOOL: [{'name': 'Pokémon Gold and Silver', 'platform': 'Game Boy Color', 'year': 1999, 'publisher': 'Nintendo', 'score': 0.3122}, {'name': 'Pokémon Ruby and Sapphire', 'platform': 'Game Boy Advance', 'year': 2002, 'publisher': 'Nintendo', 'score': -0.0213}, {'name': 'Wii Sports', 'platform': 'Wii', 'year': 2006, 'publisher': 'Nintendo', 'score': -0.5319}, {'name': 'Mario Kart 8 Deluxe', 'platform': 'Nintendo Switch', 'year': 2017, 'publisher': 'Nintendo', 'score': -0.5375}, {'name': 'Super Mario World', 'platform': 'Super Nintendo Entertainment System (SNES)', 'year': 1990, 'publisher': 'Nintendo', 'score': -0.5441}]\n",
      "🎮 ASSISTANT: None 🛠 Tool Call: evaluate_retrieval\n",
      "🧰 TOOL: {'useful': True, 'description': 'The docs contain the release year for Pokémon Gold and Silver.'}\n",
      "\n",
      "🎮 ASSISTANT: Summarised Answer:\n",
      "Pokémon Gold and Silver (Game Boy Color) was released in 1999.\n",
      "\n",
      "Citations:\n",
      "- Pokémon Gold and Silver (Game Boy Color, 1999)\n",
      "- Pokémon Ruby and Sapphire (Game Boy Advance, 2002)\n",
      "\n",
      "Report:\n",
      "The docs contain the release year for Pokémon Gold and Silver.\n",
      "\n",
      "JSON:\n",
      "{\n",
      "  \"question\": \"When were Pok\\u00e9mon Gold and Silver released?\",\n",
      "  \"answer\": \"Pok\\u00e9mon Gold and Silver (Game Boy Color) was released in 1999.\",\n",
      "  \"mode\": \"local\",\n",
      "  \"sources\": [\n",
      "    {\n",
      "      \"name\": \"Pok\\u00e9mon Gold and Silver\",\n",
      "      \"platform\": \"Game Boy Color\",\n",
      "      \"year\": 1999,\n",
      "      \"publisher\": \"Nintendo\",\n",
      "      \"score\": 0.3122\n",
      "    },\n",
      "    {\n",
      "      \"name\": \"Pok\\u00e9mon Ruby and Sapphire\",\n",
      "      \"platform\": \"Game Boy Advance\",\n",
      "      \"year\": 2002,\n",
      "      \"publisher\": \"Nintendo\",\n",
      "      \"score\": -0.0213\n",
      "    }\n",
      "  ],\n",
      "  \"history_len\": 1\n",
      "}\n",
      "🧑‍💻 USER: Which was the first 3D platformer Mario game?\n",
      "🎮 ASSISTANT: None 🛠 Tool Call: retrieve_game\n",
      "🧰 TOOL: [{'name': 'Super Mario 64', 'platform': 'Nintendo 64', 'year': 1996, 'publisher': 'Nintendo', 'score': 0.2281}, {'name': 'Super Mario World', 'platform': 'Super Nintendo Entertainment System (SNES)', 'year': 1990, 'publisher': 'Nintendo', 'score': 0.1172}, {'name': 'Super Smash Bros. Melee', 'platform': 'GameCube', 'year': 2001, 'publisher': 'Nintendo', 'score': -0.2939}, {'name': 'Mario Kart 8 Deluxe', 'platform': 'Nintendo Switch', 'year': 2017, 'publisher': 'Nintendo', 'score': -0.3528}, {'name': 'Pokémon Gold and Silver', 'platform': 'Game Boy Color', 'year': 1999, 'publisher': 'Nintendo', 'score': -0.4212}]\n",
      "🎮 ASSISTANT: None 🛠 Tool Call: evaluate_retrieval\n",
      "🧰 TOOL: {'useful': True, 'description': 'The docs mention Super Mario 64, which is the first 3D platformer Mario game.'}\n",
      "\n",
      "🎮 ASSISTANT: Summarised Answer:\n",
      "Super Mario 64 was launched on Nintendo 64.\n",
      "\n",
      "Citations:\n",
      "- Super Mario 64 (Nintendo 64, 1996)\n",
      "- Super Mario World (Super Nintendo Entertainment System (SNES), 1990)\n",
      "\n",
      "Report:\n",
      "The docs mention Super Mario 64, which is the first 3D platformer Mario game.\n",
      "\n",
      "JSON:\n",
      "{\n",
      "  \"question\": \"Which was the first 3D platformer Mario game?\",\n",
      "  \"answer\": \"Super Mario 64 was launched on Nintendo 64.\",\n",
      "  \"mode\": \"local\",\n",
      "  \"sources\": [\n",
      "    {\n",
      "      \"name\": \"Super Mario 64\",\n",
      "      \"platform\": \"Nintendo 64\",\n",
      "      \"year\": 1996,\n",
      "      \"publisher\": \"Nintendo\",\n",
      "      \"score\": 0.2281\n",
      "    },\n",
      "    {\n",
      "      \"name\": \"Super Mario World\",\n",
      "      \"platform\": \"Super Nintendo Entertainment System (SNES)\",\n",
      "      \"year\": 1990,\n",
      "      \"publisher\": \"Nintendo\",\n",
      "      \"score\": 0.1172\n",
      "    }\n",
      "  ],\n",
      "  \"history_len\": 2\n",
      "}\n",
      "🧑‍💻 USER: Was Mortal Kombat X released for PlayStation 5?\n",
      "🎮 ASSISTANT: None 🛠 Tool Call: retrieve_game\n",
      "🧰 TOOL: [{'name': \"Marvel's Spider-Man 2\", 'platform': 'PlayStation 5', 'year': 2023, 'publisher': 'Sony Interactive Entertainment', 'score': -0.0387}, {'name': \"Marvel's Spider-Man\", 'platform': 'PlayStation 4', 'year': 2018, 'publisher': 'Sony Interactive Entertainment', 'score': -0.2091}, {'name': 'Gran Turismo 5', 'platform': 'PlayStation 3', 'year': 2010, 'publisher': 'Sony Computer Entertainment', 'score': -0.2795}, {'name': 'Halo Infinite', 'platform': 'Xbox Series X|S', 'year': 2021, 'publisher': 'Xbox Game Studios', 'score': -0.3155}, {'name': 'Mario Kart 8 Deluxe', 'platform': 'Nintendo Switch', 'year': 2017, 'publisher': 'Nintendo', 'score': -0.3955}]\n",
      "🎮 ASSISTANT: None 🛠 Tool Call: evaluate_retrieval\n",
      "🧰 TOOL: {'useful': False, 'description': 'The documents do not mention Mortal Kombat X or its availability on PlayStation 5.'}\n",
      "🎮 ASSISTANT: None 🛠 Tool Call: game_web_search\n",
      "🧰 TOOL: {'answer': 'Mortal Kombat X was not originally released for PlayStation 5 but is playable via backward compatibility. Some features available on PS4 may be absent. Online features require a PlayStation account.', 'results': [{'title': 'Mortal Kombat X', 'url': 'https://en.wikipedia.org/wiki/Mortal_Kombat_X'}, {'title': 'Mortal Kombat X', 'url': 'https://store.playstation.com/en-ca/concept/202943'}, {'title': 'Mortal Kombat X', 'url': 'https://store.playstation.com/en-us/product/UP1018-CUSA00967_00-MORTALKOMBATX000'}, {'title': 'Mortal Kombat X', 'url': 'https://www.playstation.com/en-ca/games/mortal-kombat-x_msm_moved/'}, {'title': 'PlayStation 5 | Mortal Kombat X | Backwards compatible test', 'url': 'https://www.youtube.com/watch?v=9Dto2mjnliA'}]}\n",
      "\n",
      "🎮 ASSISTANT: Summarised Answer:\n",
      "Mortal Kombat X was not originally released for PlayStation 5 but is playable via backward compatibility. Some features available on PS4 may be absent. Online features require a PlayStation account.\n",
      "\n",
      "Citations:\n",
      "- Mortal Kombat X — https://en.wikipedia.org/wiki/Mortal_Kombat_X\n",
      "- Mortal Kombat X — https://store.playstation.com/en-ca/concept/202943\n",
      "\n",
      "Report:\n",
      "Fell back to web search.\n",
      "\n",
      "JSON:\n",
      "{\n",
      "  \"question\": \"Was Mortal Kombat X released for PlayStation 5?\",\n",
      "  \"answer\": \"Mortal Kombat X was not originally released for PlayStation 5 but is playable via backward compatibility. Some features available on PS4 may be absent. Online features require a PlayStation account.\",\n",
      "  \"mode\": \"web\",\n",
      "  \"sources\": [\n",
      "    {\n",
      "      \"title\": \"Mortal Kombat X\",\n",
      "      \"url\": \"https://en.wikipedia.org/wiki/Mortal_Kombat_X\"\n",
      "    },\n",
      "    {\n",
      "      \"title\": \"Mortal Kombat X\",\n",
      "      \"url\": \"https://store.playstation.com/en-ca/concept/202943\"\n",
      "    }\n",
      "  ],\n",
      "  \"history_len\": 3\n",
      "}\n"
     ]
    }
   ],
   "source": [
    "import json\n",
    "\n",
    "agent = MiniAgent([retrieve_game_tool, evaluate_retrieval_tool, game_web_search_tool])\n",
    "\n",
    "def run_structured(q):\n",
    "    out = agent.run(q)\n",
    "    payload = {\n",
    "        \"question\": q,\n",
    "        \"answer\": out[\"answer\"],\n",
    "        \"mode\": out[\"mode\"],          \n",
    "        \"sources\": out[\"sources\"],  \n",
    "        \"history_len\": len(agent.history)\n",
    "    }\n",
    "    print(\"\\nJSON:\")\n",
    "    print(json.dumps(payload, indent=2))\n",
    "    return payload\n",
    "\n",
    "for q in [\n",
    "    \"When were Pokémon Gold and Silver released?\",\n",
    "    \"Which was the first 3D platformer Mario game?\",\n",
    "    \"Was Mortal Kombat X released for PlayStation 5?\"\n",
    "]:\n",
    "    _ = run_structured(q)"
   ]
  },
  {
   "cell_type": "markdown",
   "id": "f0a55081",
   "metadata": {},
   "source": [
    "### (Optional) Advanced"
   ]
  },
  {
   "cell_type": "code",
   "execution_count": null,
   "id": "eb83fbb1",
   "metadata": {},
   "outputs": [],
   "source": [
    "# TODO: Update your agent with long-term memory\n",
    "# TODO: Convert the agent to be a state machine, with the tools being pre-defined nodes"
   ]
  }
 ],
 "metadata": {
  "kernelspec": {
   "display_name": ".venv",
   "language": "python",
   "name": "python3"
  },
  "language_info": {
   "codemirror_mode": {
    "name": "ipython",
    "version": 3
   },
   "file_extension": ".py",
   "mimetype": "text/x-python",
   "name": "python",
   "nbconvert_exporter": "python",
   "pygments_lexer": "ipython3",
   "version": "3.13.5"
  }
 },
 "nbformat": 4,
 "nbformat_minor": 5
}
