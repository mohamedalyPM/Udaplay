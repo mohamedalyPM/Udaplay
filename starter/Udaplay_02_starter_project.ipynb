{
 "cells": [
  {
   "cell_type": "markdown",
   "id": "6fdd0bcb",
   "metadata": {},
   "source": [
    "# [STARTER] Udaplay Project"
   ]
  },
  {
   "cell_type": "markdown",
   "id": "9325b035",
   "metadata": {},
   "source": [
    "## Part 02 - Agent\n",
    "\n",
    "In this part of the project, you'll use your VectorDB to be part of your Agent as a tool.\n",
    "\n",
    "You're building UdaPlay, an AI Research Agent for the video game industry. The agent will:\n",
    "1. Answer questions using internal knowledge (RAG)\n",
    "2. Search the web when needed\n",
    "3. Maintain conversation state\n",
    "4. Return structured outputs\n",
    "5. Store useful information for future use"
   ]
  },
  {
   "cell_type": "markdown",
   "id": "2b42de90",
   "metadata": {},
   "source": [
    "### Setup"
   ]
  },
  {
   "cell_type": "code",
   "execution_count": null,
   "id": "a963d4ca",
   "metadata": {},
   "outputs": [],
   "source": [
    "# Only needed for Udacity workspace\n",
    "\n",
    "import importlib.util\n",
    "import sys\n",
    "\n",
    "# Check if 'pysqlite3' is available before importing\n",
    "if importlib.util.find_spec(\"pysqlite3\") is not None:\n",
    "    import pysqlite3\n",
    "    sys.modules['sqlite3'] = sys.modules.pop('pysqlite3')"
   ]
  },
  {
   "cell_type": "code",
   "execution_count": 3,
   "id": "fd10c06e",
   "metadata": {},
   "outputs": [],
   "source": [
    "# TODO: Import the necessary libs\n",
    "# For example: \n",
    "# import os\n",
    "\n",
    "# from lib.agents import Agent\n",
    "# from lib.llm import LLM\n",
    "# from lib.messages import UserMessage, SystemMessage, ToolMessage, AIMessage\n",
    "# from lib.tooling import tool\n",
    "\n",
    "import os\n",
    "\n",
    "import chromadb\n",
    "from openai import OpenAI\n",
    "from tavily import TavilyClient\n",
    "from dotenv import load_dotenv"
   ]
  },
  {
   "cell_type": "code",
   "execution_count": 4,
   "id": "87e465d4",
   "metadata": {},
   "outputs": [],
   "source": [
    "load_dotenv(\".env\")\n",
    "os.environ[\"OPENAI_BASE_URL\"] = \"https://openai.vocareum.com/v1\"\n",
    "\n",
    "OPENAI_API_KEY = os.getenv(\"OPENAI_API_KEY\")\n",
    "TAVILY_API_KEY = os.getenv(\"TAVILY_API_KEY\")\n",
    "\n",
    "assert OPENAI_API_KEY and OPENAI_API_KEY.startswith(\"voc-\"), \"Need a voc- OPENAI_API_KEY\"\n",
    "assert TAVILY_API_KEY, \"Missing TAVILY_API_KEY\"\n",
    "\n",
    "openai_client = OpenAI(api_key=OPENAI_API_KEY, base_url=os.getenv(\"OPENAI_BASE_URL\"))\n",
    "tavily = TavilyClient(TAVILY_API_KEY)"
   ]
  },
  {
   "cell_type": "code",
   "execution_count": 5,
   "id": "ce364221",
   "metadata": {},
   "outputs": [],
   "source": [
    "from lib.voc_embedding import VocareumEmbeddingFunction\n",
    "\n",
    "embedding_fn = VocareumEmbeddingFunction(\"text-embedding-3-small\")\n",
    "chroma_client = chromadb.PersistentClient(path=\"chromadb\")\n",
    "collection = chroma_client.get_collection(\"udaplay\", embedding_function=embedding_fn)"
   ]
  },
  {
   "cell_type": "markdown",
   "id": "27de4729",
   "metadata": {},
   "source": [
    "### Tools"
   ]
  },
  {
   "cell_type": "markdown",
   "id": "46ab2dac",
   "metadata": {},
   "source": [
    "Build at least 3 tools:\n",
    "- retrieve_game: To search the vector DB\n",
    "- evaluate_retrieval: To assess the retrieval performance\n",
    "- game_web_search: If no good, search the web\n"
   ]
  },
  {
   "cell_type": "markdown",
   "id": "ce4f14cd",
   "metadata": {},
   "source": [
    "#### Retrieve Game Tool"
   ]
  },
  {
   "cell_type": "code",
   "execution_count": null,
   "id": "b25c36dd",
   "metadata": {},
   "outputs": [
    {
     "data": {
      "text/plain": [
       "[{'name': 'Gran Turismo',\n",
       "  'platform': 'PlayStation 1',\n",
       "  'year': 1997,\n",
       "  'publisher': 'Sony Computer Entertainment',\n",
       "  'score': 0.2702},\n",
       " {'name': 'Gran Turismo 5',\n",
       "  'platform': 'PlayStation 3',\n",
       "  'year': 2010,\n",
       "  'publisher': 'Sony Computer Entertainment',\n",
       "  'score': 0.1986}]"
      ]
     },
     "execution_count": 6,
     "metadata": {},
     "output_type": "execute_result"
    }
   ],
   "source": [
    "def retrieve_game(q, k=3):\n",
    "    r = collection.query(\n",
    "        query_texts=[q], n_results=k,\n",
    "        include=[\"metadatas\",\"distances\"]\n",
    "    )\n",
    "    out = []\n",
    "    for i, m in enumerate(r[\"metadatas\"][0]):\n",
    "        out.append({\n",
    "            \"name\": m.get(\"Name\"),\n",
    "            \"platform\": m.get(\"Platform\"),\n",
    "            \"year\": m.get(\"YearOfRelease\"),\n",
    "            \"publisher\": m.get(\"Publisher\"),\n",
    "            \"score\": round(1 - r[\"distances\"][0][i], 4)\n",
    "        })\n",
    "    return out\n",
    "\n",
    "retrieve_game(\"What platform was Gran Turismo launched on?\", 2)\n"
   ]
  },
  {
   "cell_type": "markdown",
   "id": "910dc945",
   "metadata": {},
   "source": [
    "#### Evaluate Retrieval Tool"
   ]
  },
  {
   "cell_type": "code",
   "execution_count": 7,
   "id": "0d9d014b",
   "metadata": {},
   "outputs": [
    {
     "data": {
      "text/plain": [
       "{'useful': True,\n",
       " 'description': 'The documents mention Gran Turismo launched on PlayStation 1 in 1997.'}"
      ]
     },
     "execution_count": 7,
     "metadata": {},
     "output_type": "execute_result"
    }
   ],
   "source": [
    "import json\n",
    "\n",
    "def evaluate_retrieval(question, retrieved_docs):\n",
    "    docs = \"\\n\".join([f\"- {d.get('name')} | {d.get('platform')} | {d.get('year')}\"\n",
    "                      for d in retrieved_docs[:3]])\n",
    "    ask = (\n",
    "        \"Are these docs enough to answer the question?\\n\"\n",
    "        \"Reply ONLY as JSON with keys: useful (true/false), description (short).\\n\\n\"\n",
    "        f\"Question: {question}\\nDocs:\\n{docs}\"\n",
    "    )\n",
    "    r = openai_client.chat.completions.create(\n",
    "        model=\"gpt-4o-mini\",\n",
    "        response_format={\"type\":\"json_object\"},\n",
    "        messages=[{\"role\":\"system\",\"content\":\"Be brief. JSON only.\"},\n",
    "                  {\"role\":\"user\",\"content\": ask}]\n",
    "    )\n",
    "    return json.loads(r.choices[0].message.content)\n",
    "\n",
    "# quick test\n",
    "hits = retrieve_game(\"What platform was Gran Turismo launched on?\", k=3)\n",
    "evaluate_retrieval(\"What platform was Gran Turismo launched on?\", hits)"
   ]
  },
  {
   "cell_type": "markdown",
   "id": "c7935a26",
   "metadata": {},
   "source": [
    "#### Game Web Search Tool"
   ]
  },
  {
   "cell_type": "code",
   "execution_count": null,
   "id": "2ad698aa",
   "metadata": {},
   "outputs": [
    {
     "name": "stdout",
     "output_type": "stream",
     "text": [
      "Answer: Pokémon Gold and Silver were released in Japan on November 21, 1999, and in North America on October 15, 2000.\n",
      "Results shown: 5\n"
     ]
    }
   ],
   "source": [
    "def game_web_search(question, max_results=5):\n",
    "    r = tavily.search(\n",
    "        query=question,\n",
    "        max_results=max_results,\n",
    "        include_answer=True\n",
    "    )\n",
    "    answer = r.get(\"answer\")\n",
    "    results = [{\"title\": x.get(\"title\"), \"url\": x.get(\"url\")} for x in r.get(\"results\", [])]\n",
    "    return {\"answer\": answer, \"results\": results}\n",
    "\n",
    "\n",
    "w = game_web_search(\"When were Pokémon Gold and Silver released?\", max_results=5)\n",
    "print(\"Answer:\", w[\"answer\"])\n",
    "print(\"Results shown:\", len(w[\"results\"]))\n"
   ]
  },
  {
   "cell_type": "code",
   "execution_count": null,
   "id": "eea52cc6",
   "metadata": {},
   "outputs": [],
   "source": [
    "def udaplay(q):\n",
    "    hits  = retrieve_game(q, k=5)\n",
    "    judge = evaluate_retrieval(q, hits)\n",
    "\n",
    "    if judge.get(\"useful\"):\n",
    "        top = hits[0] if hits else {}\n",
    "        ql = q.lower()\n",
    "        if \"platform\" in ql:\n",
    "            ans = f\"{top.get('name')} was launched on {top.get('platform')}.\"\n",
    "        elif \"publisher\" in ql:\n",
    "            ans = f\"The publisher of {top.get('name')} is {top.get('publisher')}.\"\n",
    "        else:\n",
    "            ans = f\"{top.get('name')} ({top.get('platform')}) was released in {top.get('year')}.\"\n",
    "        return {\"mode\":\"local\",\"answer\":ans,\"sources\":hits,\"eval\":judge}\n",
    "\n",
    "    web = game_web_search(q, max_results=5)\n",
    "    return {\"mode\":\"web\",\"answer\":web.get(\"answer\") or \"See sources.\",\"sources\":web.get(\"results\",[]),\"eval\":judge}\n"
   ]
  },
  {
   "cell_type": "markdown",
   "id": "df844b3b",
   "metadata": {},
   "source": [
    "### Agent"
   ]
  },
  {
   "cell_type": "code",
   "execution_count": null,
   "id": "31c56281",
   "metadata": {},
   "outputs": [],
   "source": [
    "import json\n",
    "\n",
    "def make_report(question):\n",
    "    r = udaplay(question)\n",
    "\n",
    "    def show(s):\n",
    "        name = s.get(\"name\") or s.get(\"title\") or \"Unknown\"\n",
    "        plat = s.get(\"platform\") or \"\"\n",
    "        year = s.get(\"year\") or \"\"\n",
    "        url  = s.get(\"url\") or \"\"\n",
    "        parts = [name]\n",
    "        if plat: parts.append(f\"({plat})\")\n",
    "        if year: parts.append(str(year))\n",
    "        if url:  parts.append(url)\n",
    "        return \" \".join(p for p in parts if p)\n",
    "\n",
    "    cites = \"\\n\".join(f\"- {show(s)}\" for s in r.get(\"sources\", [])[:2])\n",
    "\n",
    "    print(\"\\nQ:\", question)\n",
    "    print(\"Answer:\", r[\"answer\"])\n",
    "    print(\"Mode:\", r[\"mode\"])\n",
    "    print(\"Sources:\\n\" + (cites or \"- (none)\"))\n",
    "\n",
    "    payload = {\n",
    "        \"question\": question,\n",
    "        \"answer\": r[\"answer\"],\n",
    "        \"mode\": r[\"mode\"],\n",
    "        \"evaluation\": r.get(\"eval\"),\n",
    "        \"sources\": r.get(\"sources\", []),\n",
    "    }\n",
    "    print(\"\\nJSON:\")\n",
    "    print(json.dumps(payload, indent=2))\n",
    "    return payload\n"
   ]
  },
  {
   "cell_type": "code",
   "execution_count": null,
   "id": "0ec23893",
   "metadata": {},
   "outputs": [
    {
     "name": "stdout",
     "output_type": "stream",
     "text": [
      "\n",
      "Q: When were Pokémon Gold and Silver released?\n",
      "Answer: Pokémon Gold and Silver (Game Boy Color) was released in 1999.\n",
      "Mode: local\n",
      "Sources:\n",
      "- Pokémon Gold and Silver (Game Boy Color) 1999\n",
      "- Pokémon Ruby and Sapphire (Game Boy Advance) 2002\n",
      "\n",
      "JSON:\n",
      "{\n",
      "  \"question\": \"When were Pok\\u00e9mon Gold and Silver released?\",\n",
      "  \"answer\": \"Pok\\u00e9mon Gold and Silver (Game Boy Color) was released in 1999.\",\n",
      "  \"mode\": \"local\",\n",
      "  \"evaluation\": {\n",
      "    \"useful\": true,\n",
      "    \"description\": \"The docs provide the release year for Pok\\u00e9mon Gold and Silver.\"\n",
      "  },\n",
      "  \"sources\": [\n",
      "    {\n",
      "      \"name\": \"Pok\\u00e9mon Gold and Silver\",\n",
      "      \"platform\": \"Game Boy Color\",\n",
      "      \"year\": 1999,\n",
      "      \"publisher\": \"Nintendo\",\n",
      "      \"score\": 0.3122\n",
      "    },\n",
      "    {\n",
      "      \"name\": \"Pok\\u00e9mon Ruby and Sapphire\",\n",
      "      \"platform\": \"Game Boy Advance\",\n",
      "      \"year\": 2002,\n",
      "      \"publisher\": \"Nintendo\",\n",
      "      \"score\": -0.0213\n",
      "    },\n",
      "    {\n",
      "      \"name\": \"Wii Sports\",\n",
      "      \"platform\": \"Wii\",\n",
      "      \"year\": 2006,\n",
      "      \"publisher\": \"Nintendo\",\n",
      "      \"score\": -0.5319\n",
      "    },\n",
      "    {\n",
      "      \"name\": \"Mario Kart 8 Deluxe\",\n",
      "      \"platform\": \"Nintendo Switch\",\n",
      "      \"year\": 2017,\n",
      "      \"publisher\": \"Nintendo\",\n",
      "      \"score\": -0.5375\n",
      "    },\n",
      "    {\n",
      "      \"name\": \"Super Mario World\",\n",
      "      \"platform\": \"Super Nintendo Entertainment System (SNES)\",\n",
      "      \"year\": 1990,\n",
      "      \"publisher\": \"Nintendo\",\n",
      "      \"score\": -0.5441\n",
      "    }\n",
      "  ]\n",
      "}\n",
      "\n",
      "Q: Which was the first 3D platformer Mario game?\n",
      "Answer: Super Mario 64 was launched on Nintendo 64.\n",
      "Mode: local\n",
      "Sources:\n",
      "- Super Mario 64 (Nintendo 64) 1996\n",
      "- Super Mario World (Super Nintendo Entertainment System (SNES)) 1990\n",
      "\n",
      "JSON:\n",
      "{\n",
      "  \"question\": \"Which was the first 3D platformer Mario game?\",\n",
      "  \"answer\": \"Super Mario 64 was launched on Nintendo 64.\",\n",
      "  \"mode\": \"local\",\n",
      "  \"evaluation\": {\n",
      "    \"useful\": true,\n",
      "    \"description\": \"The docs mention Super Mario 64, which is the first 3D platformer Mario game.\"\n",
      "  },\n",
      "  \"sources\": [\n",
      "    {\n",
      "      \"name\": \"Super Mario 64\",\n",
      "      \"platform\": \"Nintendo 64\",\n",
      "      \"year\": 1996,\n",
      "      \"publisher\": \"Nintendo\",\n",
      "      \"score\": 0.2281\n",
      "    },\n",
      "    {\n",
      "      \"name\": \"Super Mario World\",\n",
      "      \"platform\": \"Super Nintendo Entertainment System (SNES)\",\n",
      "      \"year\": 1990,\n",
      "      \"publisher\": \"Nintendo\",\n",
      "      \"score\": 0.1172\n",
      "    },\n",
      "    {\n",
      "      \"name\": \"Super Smash Bros. Melee\",\n",
      "      \"platform\": \"GameCube\",\n",
      "      \"year\": 2001,\n",
      "      \"publisher\": \"Nintendo\",\n",
      "      \"score\": -0.2939\n",
      "    },\n",
      "    {\n",
      "      \"name\": \"Mario Kart 8 Deluxe\",\n",
      "      \"platform\": \"Nintendo Switch\",\n",
      "      \"year\": 2017,\n",
      "      \"publisher\": \"Nintendo\",\n",
      "      \"score\": -0.3528\n",
      "    },\n",
      "    {\n",
      "      \"name\": \"Pok\\u00e9mon Gold and Silver\",\n",
      "      \"platform\": \"Game Boy Color\",\n",
      "      \"year\": 1999,\n",
      "      \"publisher\": \"Nintendo\",\n",
      "      \"score\": -0.4212\n",
      "    }\n",
      "  ]\n",
      "}\n",
      "\n",
      "Q: Was Mortal Kombat X released for PlayStation 5?\n",
      "Answer: Mortal Kombat X is not an original PS5 release but a backward-compatible game playable on PS5. It was originally released for PS4 in 2015. Some PS4 features may be absent on PS5.\n",
      "Mode: web\n",
      "Sources:\n",
      "- Mortal Kombat X (PS5) 4K 60FPS HDR Gameplay https://www.youtube.com/watch?v=HUNMZwDdrvY\n",
      "- Mortal Kombat X https://en.wikipedia.org/wiki/Mortal_Kombat_X\n",
      "\n",
      "JSON:\n",
      "{\n",
      "  \"question\": \"Was Mortal Kombat X released for PlayStation 5?\",\n",
      "  \"answer\": \"Mortal Kombat X is not an original PS5 release but a backward-compatible game playable on PS5. It was originally released for PS4 in 2015. Some PS4 features may be absent on PS5.\",\n",
      "  \"mode\": \"web\",\n",
      "  \"evaluation\": {\n",
      "    \"useful\": false,\n",
      "    \"description\": \"The documents do not mention Mortal Kombat X or its availability on PlayStation 5.\"\n",
      "  },\n",
      "  \"sources\": [\n",
      "    {\n",
      "      \"title\": \"Mortal Kombat X (PS5) 4K 60FPS HDR Gameplay\",\n",
      "      \"url\": \"https://www.youtube.com/watch?v=HUNMZwDdrvY\"\n",
      "    },\n",
      "    {\n",
      "      \"title\": \"Mortal Kombat X\",\n",
      "      \"url\": \"https://en.wikipedia.org/wiki/Mortal_Kombat_X\"\n",
      "    },\n",
      "    {\n",
      "      \"title\": \"Mortal Kombat X\",\n",
      "      \"url\": \"https://store.playstation.com/en-us/product/UP1018-CUSA00967_00-MORTALKOMBATX000\"\n",
      "    },\n",
      "    {\n",
      "      \"title\": \"Mortal Kombat X\",\n",
      "      \"url\": \"https://www.playstation.com/en-us/games/mortal-kombat-x_msm_moved/\"\n",
      "    },\n",
      "    {\n",
      "      \"title\": \"PlayStation 5 | Mortal Kombat X | Backwards compatible test\",\n",
      "      \"url\": \"https://www.youtube.com/watch?v=9Dto2mjnliA\"\n",
      "    }\n",
      "  ]\n",
      "}\n"
     ]
    },
    {
     "data": {
      "text/plain": [
       "{'question': 'Was Mortal Kombat X released for PlayStation 5?',\n",
       " 'answer': 'Mortal Kombat X is not an original PS5 release but a backward-compatible game playable on PS5. It was originally released for PS4 in 2015. Some PS4 features may be absent on PS5.',\n",
       " 'mode': 'web',\n",
       " 'evaluation': {'useful': False,\n",
       "  'description': 'The documents do not mention Mortal Kombat X or its availability on PlayStation 5.'},\n",
       " 'sources': [{'title': 'Mortal Kombat X (PS5) 4K 60FPS HDR Gameplay',\n",
       "   'url': 'https://www.youtube.com/watch?v=HUNMZwDdrvY'},\n",
       "  {'title': 'Mortal Kombat X',\n",
       "   'url': 'https://en.wikipedia.org/wiki/Mortal_Kombat_X'},\n",
       "  {'title': 'Mortal Kombat X',\n",
       "   'url': 'https://store.playstation.com/en-us/product/UP1018-CUSA00967_00-MORTALKOMBATX000'},\n",
       "  {'title': 'Mortal Kombat X',\n",
       "   'url': 'https://www.playstation.com/en-us/games/mortal-kombat-x_msm_moved/'},\n",
       "  {'title': 'PlayStation 5 | Mortal Kombat X | Backwards compatible test',\n",
       "   'url': 'https://www.youtube.com/watch?v=9Dto2mjnliA'}]}"
      ]
     },
     "execution_count": 11,
     "metadata": {},
     "output_type": "execute_result"
    }
   ],
   "source": [
    "make_report(\"When were Pokémon Gold and Silver released?\")\n",
    "make_report(\"Which was the first 3D platformer Mario game?\")\n",
    "make_report(\"Was Mortal Kombat X released for PlayStation 5?\")"
   ]
  },
  {
   "cell_type": "markdown",
   "id": "f0a55081",
   "metadata": {},
   "source": [
    "### (Optional) Advanced"
   ]
  },
  {
   "cell_type": "code",
   "execution_count": null,
   "id": "eb83fbb1",
   "metadata": {},
   "outputs": [],
   "source": [
    "# TODO: Update your agent with long-term memory\n",
    "# TODO: Convert the agent to be a state machine, with the tools being pre-defined nodes"
   ]
  }
 ],
 "metadata": {
  "kernelspec": {
   "display_name": ".venv",
   "language": "python",
   "name": "python3"
  },
  "language_info": {
   "codemirror_mode": {
    "name": "ipython",
    "version": 3
   },
   "file_extension": ".py",
   "mimetype": "text/x-python",
   "name": "python",
   "nbconvert_exporter": "python",
   "pygments_lexer": "ipython3",
   "version": "3.13.5"
  }
 },
 "nbformat": 4,
 "nbformat_minor": 5
}
