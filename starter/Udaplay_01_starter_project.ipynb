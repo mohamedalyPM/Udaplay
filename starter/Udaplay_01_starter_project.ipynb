{
 "cells": [
  {
   "cell_type": "markdown",
   "id": "6fdd0bcb",
   "metadata": {},
   "source": [
    "# [STARTER] Udaplay Project"
   ]
  },
  {
   "cell_type": "markdown",
   "id": "9325b035",
   "metadata": {},
   "source": [
    "## Part 01 - Offline RAG\n",
    "\n",
    "In this part of the project, you'll build your VectorDB using Chroma.\n",
    "\n",
    "The data is inside folder `project/starter/games`. Each file will become a document in the collection you'll create.\n",
    "Example.:\n",
    "```json\n",
    "{\n",
    "  \"Name\": \"Gran Turismo\",\n",
    "  \"Platform\": \"PlayStation 1\",\n",
    "  \"Genre\": \"Racing\",\n",
    "  \"Publisher\": \"Sony Computer Entertainment\",\n",
    "  \"Description\": \"A realistic racing simulator featuring a wide array of cars and tracks, setting a new standard for the genre.\",\n",
    "  \"YearOfRelease\": 1997\n",
    "}\n",
    "```\n"
   ]
  },
  {
   "cell_type": "markdown",
   "id": "2b42de90",
   "metadata": {},
   "source": [
    "### Setup"
   ]
  },
  {
   "cell_type": "code",
   "execution_count": 1,
   "id": "61283b25",
   "metadata": {},
   "outputs": [],
   "source": [
    "# Only needed for Udacity workspace\n",
    "\n",
    "import importlib.util\n",
    "import sys\n",
    "\n",
    "# Check if 'pysqlite3' is available before importing\n",
    "if importlib.util.find_spec(\"pysqlite3\") is not None:\n",
    "    import pysqlite3\n",
    "    sys.modules['sqlite3'] = sys.modules.pop('pysqlite3')"
   ]
  },
  {
   "cell_type": "code",
   "execution_count": 2,
   "id": "a8d56169",
   "metadata": {},
   "outputs": [],
   "source": [
    "import os\n",
    "import json\n",
    "import chromadb\n",
    "from chromadb.utils import embedding_functions\n",
    "from dotenv import load_dotenv"
   ]
  },
  {
   "cell_type": "code",
   "execution_count": 4,
   "id": "87e465d4",
   "metadata": {},
   "outputs": [],
   "source": [
    "from dotenv import load_dotenv\n",
    "import os\n",
    "\n",
    "load_dotenv(\".env\")\n",
    "\n",
    "os.environ[\"OPENAI_BASE_URL\"] = \"https://openai.vocareum.com/v1\"\n",
    "\n",
    "openai_key = os.getenv(\"OPENAI_API_KEY\", \"\")\n"
   ]
  },
  {
   "cell_type": "markdown",
   "id": "27de4729",
   "metadata": {},
   "source": [
    "### VectorDB Instance"
   ]
  },
  {
   "cell_type": "code",
   "execution_count": 5,
   "id": "b25c36dd",
   "metadata": {},
   "outputs": [
    {
     "name": "stdout",
     "output_type": "stream",
     "text": [
      "✅ Chroma client ready\n"
     ]
    }
   ],
   "source": [
    "import chromadb\n",
    "chroma_client = chromadb.PersistentClient(path=\"chromadb\")\n",
    "print(\"✅ Chroma client ready\")"
   ]
  },
  {
   "cell_type": "markdown",
   "id": "df844b3b",
   "metadata": {},
   "source": [
    "### Collection"
   ]
  },
  {
   "cell_type": "code",
   "execution_count": 6,
   "id": "31c56281",
   "metadata": {},
   "outputs": [
    {
     "name": "stdout",
     "output_type": "stream",
     "text": [
      "✅ Using VocareumEmbeddingFunction\n"
     ]
    }
   ],
   "source": [
    "# TODO: Pick one embedding function\n",
    "# If picking something different than openai, \n",
    "# make sure you use the same when loading it\n",
    "# embedding_fn = embedding_functions.OpenAIEmbeddingFunction()\n",
    "\n",
    "from lib.voc_embedding import VocareumEmbeddingFunction\n",
    "\n",
    "embedding_fn = VocareumEmbeddingFunction(model_name=\"text-embedding-3-small\")\n",
    "print(\"✅ Using VocareumEmbeddingFunction\")\n"
   ]
  },
  {
   "cell_type": "code",
   "execution_count": 7,
   "id": "0ec23893",
   "metadata": {},
   "outputs": [
    {
     "name": "stdout",
     "output_type": "stream",
     "text": [
      "✅ Collection ready: udaplay\n"
     ]
    }
   ],
   "source": [
    "collection = chroma_client.get_or_create_collection(\n",
    "        name=\"udaplay\",\n",
    "        embedding_function=embedding_fn\n",
    "    )\n",
    "\n",
    "print(\"✅ Collection ready:\", collection.name)"
   ]
  },
  {
   "cell_type": "markdown",
   "id": "f0a55081",
   "metadata": {},
   "source": [
    "### Add documents"
   ]
  },
  {
   "cell_type": "code",
   "execution_count": 8,
   "id": "eb83fbb1",
   "metadata": {},
   "outputs": [],
   "source": [
    "data_dir = \"games\"\n",
    "\n",
    "for file_name in sorted(os.listdir(data_dir)):\n",
    "    if not file_name.endswith(\".json\"):\n",
    "        continue\n",
    "\n",
    "    file_path = os.path.join(data_dir, file_name)\n",
    "    with open(file_path, \"r\", encoding=\"utf-8\") as f:\n",
    "        game = json.load(f)\n",
    "\n",
    "    # You can change what text you want to index\n",
    "    content = f\"[{game['Platform']}] {game['Name']} ({game['YearOfRelease']}) - {game['Description']}\"\n",
    "\n",
    "    # Use file name (like 001) as ID\n",
    "    doc_id = os.path.splitext(file_name)[0]\n",
    "\n",
    "    collection.add(\n",
    "        ids=[doc_id],\n",
    "        documents=[content],\n",
    "        metadatas=[game]\n",
    "    )"
   ]
  }
 ],
 "metadata": {
  "kernelspec": {
   "display_name": ".venv",
   "language": "python",
   "name": "python3"
  },
  "language_info": {
   "codemirror_mode": {
    "name": "ipython",
    "version": 3
   },
   "file_extension": ".py",
   "mimetype": "text/x-python",
   "name": "python",
   "nbconvert_exporter": "python",
   "pygments_lexer": "ipython3",
   "version": "3.13.5"
  }
 },
 "nbformat": 4,
 "nbformat_minor": 5
}
